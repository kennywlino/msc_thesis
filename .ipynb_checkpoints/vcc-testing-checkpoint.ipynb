{
 "cells": [
  {
   "cell_type": "markdown",
   "metadata": {},
   "source": [
    "# Voice conversion prototyping"
   ]
  },
  {
   "cell_type": "markdown",
   "metadata": {},
   "source": [
    "with GMMs; VCTK corpus"
   ]
  },
  {
   "cell_type": "markdown",
   "metadata": {},
   "source": [
    "using: \n",
    "    * p300 American California Female\n",
    "    * p276 English Oxford Female"
   ]
  },
  {
   "cell_type": "code",
   "execution_count": 1,
   "metadata": {},
   "outputs": [
    {
     "name": "stdout",
     "output_type": "stream",
     "text": [
      "\u001b[34mp225\u001b[m\u001b[m \u001b[34mp232\u001b[m\u001b[m \u001b[34mp240\u001b[m\u001b[m \u001b[34mp248\u001b[m\u001b[m \u001b[34mp255\u001b[m\u001b[m \u001b[34mp262\u001b[m\u001b[m \u001b[34mp269\u001b[m\u001b[m \u001b[34mp276\u001b[m\u001b[m \u001b[34mp283\u001b[m\u001b[m \u001b[34mp293\u001b[m\u001b[m \u001b[34mp301\u001b[m\u001b[m \u001b[34mp308\u001b[m\u001b[m \u001b[34mp316\u001b[m\u001b[m \u001b[34mp333\u001b[m\u001b[m \u001b[34mp343\u001b[m\u001b[m \u001b[34mp363\u001b[m\u001b[m\n",
      "\u001b[34mp226\u001b[m\u001b[m \u001b[34mp233\u001b[m\u001b[m \u001b[34mp241\u001b[m\u001b[m \u001b[34mp249\u001b[m\u001b[m \u001b[34mp256\u001b[m\u001b[m \u001b[34mp263\u001b[m\u001b[m \u001b[34mp270\u001b[m\u001b[m \u001b[34mp277\u001b[m\u001b[m \u001b[34mp284\u001b[m\u001b[m \u001b[34mp294\u001b[m\u001b[m \u001b[34mp302\u001b[m\u001b[m \u001b[34mp310\u001b[m\u001b[m \u001b[34mp317\u001b[m\u001b[m \u001b[34mp334\u001b[m\u001b[m \u001b[34mp345\u001b[m\u001b[m \u001b[34mp364\u001b[m\u001b[m\n",
      "\u001b[34mp227\u001b[m\u001b[m \u001b[34mp234\u001b[m\u001b[m \u001b[34mp243\u001b[m\u001b[m \u001b[34mp250\u001b[m\u001b[m \u001b[34mp257\u001b[m\u001b[m \u001b[34mp264\u001b[m\u001b[m \u001b[34mp271\u001b[m\u001b[m \u001b[34mp278\u001b[m\u001b[m \u001b[34mp285\u001b[m\u001b[m \u001b[34mp295\u001b[m\u001b[m \u001b[34mp303\u001b[m\u001b[m \u001b[34mp311\u001b[m\u001b[m \u001b[34mp318\u001b[m\u001b[m \u001b[34mp335\u001b[m\u001b[m \u001b[34mp347\u001b[m\u001b[m \u001b[34mp374\u001b[m\u001b[m\n",
      "\u001b[34mp228\u001b[m\u001b[m \u001b[34mp236\u001b[m\u001b[m \u001b[34mp244\u001b[m\u001b[m \u001b[34mp251\u001b[m\u001b[m \u001b[34mp258\u001b[m\u001b[m \u001b[34mp265\u001b[m\u001b[m \u001b[34mp272\u001b[m\u001b[m \u001b[34mp279\u001b[m\u001b[m \u001b[34mp286\u001b[m\u001b[m \u001b[34mp297\u001b[m\u001b[m \u001b[34mp304\u001b[m\u001b[m \u001b[34mp312\u001b[m\u001b[m \u001b[34mp323\u001b[m\u001b[m \u001b[34mp336\u001b[m\u001b[m \u001b[34mp351\u001b[m\u001b[m \u001b[34mp376\u001b[m\u001b[m\n",
      "\u001b[34mp229\u001b[m\u001b[m \u001b[34mp237\u001b[m\u001b[m \u001b[34mp245\u001b[m\u001b[m \u001b[34mp252\u001b[m\u001b[m \u001b[34mp259\u001b[m\u001b[m \u001b[34mp266\u001b[m\u001b[m \u001b[34mp273\u001b[m\u001b[m \u001b[34mp280\u001b[m\u001b[m \u001b[34mp287\u001b[m\u001b[m \u001b[34mp298\u001b[m\u001b[m \u001b[34mp305\u001b[m\u001b[m \u001b[34mp313\u001b[m\u001b[m \u001b[34mp326\u001b[m\u001b[m \u001b[34mp339\u001b[m\u001b[m \u001b[34mp360\u001b[m\u001b[m\n",
      "\u001b[34mp230\u001b[m\u001b[m \u001b[34mp238\u001b[m\u001b[m \u001b[34mp246\u001b[m\u001b[m \u001b[34mp253\u001b[m\u001b[m \u001b[34mp260\u001b[m\u001b[m \u001b[34mp267\u001b[m\u001b[m \u001b[34mp274\u001b[m\u001b[m \u001b[34mp281\u001b[m\u001b[m \u001b[34mp288\u001b[m\u001b[m \u001b[34mp299\u001b[m\u001b[m \u001b[34mp306\u001b[m\u001b[m \u001b[34mp314\u001b[m\u001b[m \u001b[34mp329\u001b[m\u001b[m \u001b[34mp340\u001b[m\u001b[m \u001b[34mp361\u001b[m\u001b[m\n",
      "\u001b[34mp231\u001b[m\u001b[m \u001b[34mp239\u001b[m\u001b[m \u001b[34mp247\u001b[m\u001b[m \u001b[34mp254\u001b[m\u001b[m \u001b[34mp261\u001b[m\u001b[m \u001b[34mp268\u001b[m\u001b[m \u001b[34mp275\u001b[m\u001b[m \u001b[34mp282\u001b[m\u001b[m \u001b[34mp292\u001b[m\u001b[m \u001b[34mp300\u001b[m\u001b[m \u001b[34mp307\u001b[m\u001b[m \u001b[34mp315\u001b[m\u001b[m \u001b[34mp330\u001b[m\u001b[m \u001b[34mp341\u001b[m\u001b[m \u001b[34mp362\u001b[m\u001b[m\n"
     ]
    }
   ],
   "source": [
    "# open data\n",
    "from os.path import join, expanduser\n",
    "DATA_ROOT = join(expanduser(\"~\"), \"Documents/em_lct/UoM/thesis_local/data/VCTK-Corpus\", \"wav48\")\n",
    "!ls $DATA_ROOT"
   ]
  },
  {
   "cell_type": "code",
   "execution_count": 2,
   "metadata": {},
   "outputs": [
    {
     "name": "stdout",
     "output_type": "stream",
     "text": [
      "Populating the interactive namespace from numpy and matplotlib\n"
     ]
    }
   ],
   "source": [
    "# nnmnkwii imports taken from example notebook on VC\n",
    "%pylab inline\n",
    "rcParams[\"figure.figsize\"] = (16,5)\n",
    "\n",
    "from nnmnkwii.datasets import PaddedFileSourceDataset\n",
    "from nnmnkwii.datasets.cmu_arctic import CMUArcticWavFileDataSource\n",
    "from nnmnkwii.preprocessing.alignment import DTWAligner\n",
    "from nnmnkwii.preprocessing import trim_zeros_frames, remove_zeros_frames, delta_features\n",
    "from nnmnkwii.util import apply_each2d_trim\n",
    "from nnmnkwii.metrics import melcd\n",
    "from nnmnkwii.baseline.gmm import MLPG\n",
    "\n",
    "from os import listdir\n",
    "from os.path import basename, splitext, join, splitext, isdir\n",
    "import sys\n",
    "import time\n",
    "\n",
    "import numpy as np\n",
    "from sklearn.mixture import GaussianMixture\n",
    "from sklearn.model_selection import train_test_split\n",
    "import pyworld\n",
    "import pysptk\n",
    "from pysptk.synthesis import MLSADF, Synthesizer\n",
    "import librosa\n",
    "import librosa.display\n",
    "import IPython\n",
    "from IPython.display import Audio"
   ]
  },
  {
   "cell_type": "code",
   "execution_count": 3,
   "metadata": {},
   "outputs": [],
   "source": [
    "fs = 16000\n",
    "fftlen = pyworld.get_cheaptrick_fft_size(fs)\n",
    "alpha = pysptk.util.mcepalpha(fs)\n",
    "order = 24\n",
    "frame_period = 5\n",
    "hop_length = int(fs * (frame_period * 0.001))\n",
    "max_files = 50 # number of utterances to be used.\n",
    "test_size = 0.2\n",
    "use_delta = True\n",
    "\n",
    "if use_delta:\n",
    "    windows = [\n",
    "        (0, 0, np.array([1.0])),\n",
    "        (1, 1, np.array([-0.5, 0.0, 0.5])),\n",
    "        (1, 1, np.array([1.0, -2.0, 1.0])),\n",
    "    ]\n",
    "else:\n",
    "    windows = [\n",
    "        (0, 0, np.array([1.0])),\n",
    "    ]"
   ]
  },
  {
   "cell_type": "code",
   "execution_count": 4,
   "metadata": {},
   "outputs": [],
   "source": [
    "def _name_to_dirname(name):\n",
    "    return join(\"cmu_us_{}_arctic\".format(name), \"wav\")\n",
    "\n",
    "class WavFileDataSource():\n",
    "    \"\"\" \n",
    "    A modified version of WavFileDataSource from nnmnkwii.\n",
    "    \"\"\"\n",
    "    \n",
    "    def __init__(self, data_root, speakers, labelmap=None, max_files=None):\n",
    "        self.data_root = data_root\n",
    "        self.speakers = speakers\n",
    "        if labelmap is None:\n",
    "            labelmap = {}\n",
    "            for idx, speaker in enumerate(speakers):\n",
    "                labelmap[speaker] = idx\n",
    "        self.labelmap = labelmap\n",
    "        self.max_files = max_files\n",
    "\n",
    "    def collect_files(self):\n",
    "        \"\"\"\n",
    "        Collects wav files for specific speakers.\n",
    "        \n",
    "        Returns:\n",
    "            list: list of collected wav files.\n",
    "        \"\"\"\n",
    "        \n",
    "        speaker_dirs = list(\n",
    "            map(lambda x: join(self.data_root, x),\n",
    "                self.speakers))\n",
    "        paths = []\n",
    "        labels = []\n",
    "\n",
    "        if self.max_files is None:\n",
    "            max_files_per_speaker = None\n",
    "        else:\n",
    "            max_files_per_speaker = self.max_files // len(self.speakers)\n",
    "        for (i, d) in enumerate(speaker_dirs):\n",
    "            if not isdir(d):\n",
    "                raise RuntimeError(\"{} doesn't exist.\".format(d))\n",
    "            files = [join(speaker_dirs[i], f) for f in listdir(d)]\n",
    "            files = list(filter(lambda x: splitext(x)[1] == \".wav\", files))\n",
    "            files = sorted(files)\n",
    "            files = files[:max_files_per_speaker]\n",
    "            for f in files:\n",
    "                paths.append(f)\n",
    "                labels.append(self.labelmap[self.speakers[i]])\n",
    "\n",
    "        self.labels = np.array(labels, dtype=np.int32)\n",
    "        return paths"
   ]
  },
  {
   "cell_type": "code",
   "execution_count": 5,
   "metadata": {},
   "outputs": [],
   "source": [
    "class MyFileDataSource(WavFileDataSource):\n",
    "    def __init__(self, *args, **kwargs):\n",
    "        super(MyFileDataSource, self).__init__(*args, **kwargs)\n",
    "        self.test_paths = None\n",
    "\n",
    "    def collect_files(self):\n",
    "        paths = super(\n",
    "            MyFileDataSource, self).collect_files()\n",
    "        paths_train, paths_test = train_test_split(\n",
    "            paths, test_size=test_size, random_state=1234)\n",
    "\n",
    "        # keep paths for later testing\n",
    "        self.test_paths = paths_test\n",
    "\n",
    "        return paths_train\n",
    "\n",
    "    def collect_features(self, path):\n",
    "        x, fs = librosa.load(path, sr=16000)\n",
    "        x = x.astype(np.float64)\n",
    "        f0, timeaxis = pyworld.dio(x, fs, frame_period=frame_period)\n",
    "        f0 = pyworld.stonemask(x, f0, timeaxis, fs)\n",
    "        spectrogram = pyworld.cheaptrick(x, f0, timeaxis, fs)\n",
    "        spectrogram = trim_zeros_frames(spectrogram)\n",
    "        mc = pysptk.sp2mc(spectrogram, order=order, alpha=alpha)\n",
    "        return mc"
   ]
  },
  {
   "cell_type": "code",
   "execution_count": 6,
   "metadata": {},
   "outputs": [],
   "source": [
    "p300_source = MyFileDataSource(data_root=DATA_ROOT, speakers=[\"src\"], max_files=50)\n",
    "p276_source = MyFileDataSource(data_root=DATA_ROOT, speakers=[\"tgt\"], max_files=50)"
   ]
  },
  {
   "cell_type": "code",
   "execution_count": 7,
   "metadata": {},
   "outputs": [
    {
     "data": {
      "text/plain": [
       "['__class__',\n",
       " '__delattr__',\n",
       " '__dict__',\n",
       " '__dir__',\n",
       " '__doc__',\n",
       " '__eq__',\n",
       " '__format__',\n",
       " '__ge__',\n",
       " '__getattribute__',\n",
       " '__gt__',\n",
       " '__hash__',\n",
       " '__init__',\n",
       " '__init_subclass__',\n",
       " '__le__',\n",
       " '__lt__',\n",
       " '__module__',\n",
       " '__ne__',\n",
       " '__new__',\n",
       " '__reduce__',\n",
       " '__reduce_ex__',\n",
       " '__repr__',\n",
       " '__setattr__',\n",
       " '__sizeof__',\n",
       " '__str__',\n",
       " '__subclasshook__',\n",
       " '__weakref__',\n",
       " 'collect_features',\n",
       " 'collect_files',\n",
       " 'data_root',\n",
       " 'labelmap',\n",
       " 'max_files',\n",
       " 'speakers',\n",
       " 'test_paths']"
      ]
     },
     "execution_count": 7,
     "metadata": {},
     "output_type": "execute_result"
    }
   ],
   "source": [
    "dir(p300_source)"
   ]
  },
  {
   "cell_type": "code",
   "execution_count": 11,
   "metadata": {},
   "outputs": [
    {
     "data": {
      "text/plain": [
       "['/Users/kennylino/Documents/em_lct/UoM/thesis_local/data/VCTK-Corpus/wav48/p300/p300_038.wav',\n",
       " '/Users/kennylino/Documents/em_lct/UoM/thesis_local/data/VCTK-Corpus/wav48/p300/p300_046.wav',\n",
       " '/Users/kennylino/Documents/em_lct/UoM/thesis_local/data/VCTK-Corpus/wav48/p300/p300_007.wav',\n",
       " '/Users/kennylino/Documents/em_lct/UoM/thesis_local/data/VCTK-Corpus/wav48/p300/p300_045.wav',\n",
       " '/Users/kennylino/Documents/em_lct/UoM/thesis_local/data/VCTK-Corpus/wav48/p300/p300_014.wav',\n",
       " '/Users/kennylino/Documents/em_lct/UoM/thesis_local/data/VCTK-Corpus/wav48/p300/p300_037.wav',\n",
       " '/Users/kennylino/Documents/em_lct/UoM/thesis_local/data/VCTK-Corpus/wav48/p300/p300_009.wav',\n",
       " '/Users/kennylino/Documents/em_lct/UoM/thesis_local/data/VCTK-Corpus/wav48/p300/p300_030.wav',\n",
       " '/Users/kennylino/Documents/em_lct/UoM/thesis_local/data/VCTK-Corpus/wav48/p300/p300_005.wav',\n",
       " '/Users/kennylino/Documents/em_lct/UoM/thesis_local/data/VCTK-Corpus/wav48/p300/p300_050.wav']"
      ]
     },
     "execution_count": 11,
     "metadata": {},
     "output_type": "execute_result"
    }
   ],
   "source": [
    "p300_source.test_paths"
   ]
  },
  {
   "cell_type": "code",
   "execution_count": 12,
   "metadata": {},
   "outputs": [
    {
     "data": {
      "text/plain": [
       "['/Users/kennylino/Documents/em_lct/UoM/thesis_local/data/VCTK-Corpus/wav48/p276/p276_039.wav',\n",
       " '/Users/kennylino/Documents/em_lct/UoM/thesis_local/data/VCTK-Corpus/wav48/p276/p276_047.wav',\n",
       " '/Users/kennylino/Documents/em_lct/UoM/thesis_local/data/VCTK-Corpus/wav48/p276/p276_008.wav',\n",
       " '/Users/kennylino/Documents/em_lct/UoM/thesis_local/data/VCTK-Corpus/wav48/p276/p276_046.wav',\n",
       " '/Users/kennylino/Documents/em_lct/UoM/thesis_local/data/VCTK-Corpus/wav48/p276/p276_015.wav',\n",
       " '/Users/kennylino/Documents/em_lct/UoM/thesis_local/data/VCTK-Corpus/wav48/p276/p276_038.wav',\n",
       " '/Users/kennylino/Documents/em_lct/UoM/thesis_local/data/VCTK-Corpus/wav48/p276/p276_010.wav',\n",
       " '/Users/kennylino/Documents/em_lct/UoM/thesis_local/data/VCTK-Corpus/wav48/p276/p276_031.wav',\n",
       " '/Users/kennylino/Documents/em_lct/UoM/thesis_local/data/VCTK-Corpus/wav48/p276/p276_006.wav',\n",
       " '/Users/kennylino/Documents/em_lct/UoM/thesis_local/data/VCTK-Corpus/wav48/p276/p276_051.wav']"
      ]
     },
     "execution_count": 12,
     "metadata": {},
     "output_type": "execute_result"
    }
   ],
   "source": [
    "p276_source.test_paths"
   ]
  },
  {
   "cell_type": "code",
   "execution_count": 10,
   "metadata": {},
   "outputs": [
    {
     "name": "stdout",
     "output_type": "stream",
     "text": [
      "(40, 2700, 25)\n",
      "(40, 2700, 25)\n"
     ]
    }
   ],
   "source": [
    "# convert datasets into arrays\n",
    "X = PaddedFileSourceDataset(p300_source, 2700).asarray()\n",
    "Y = PaddedFileSourceDataset(p276_source, 2700).asarray()\n",
    "print(X.shape)\n",
    "print(Y.shape)"
   ]
  },
  {
   "cell_type": "code",
   "execution_count": null,
   "metadata": {},
   "outputs": [],
   "source": [
    "# Plotting util\n",
    "def plot_parallel(x,y):\n",
    "    figure(figsize=(16,7))\n",
    "    subplot(2,1,1)\n",
    "    librosa.display.specshow(trim_zeros_frames(x).T, sr=fs, hop_length=hop_length, x_axis=\"time\")\n",
    "    colorbar()\n",
    "    subplot(2,1,2)\n",
    "    librosa.display.specshow(trim_zeros_frames(y).T, sr=fs, hop_length=hop_length, x_axis=\"time\")\n",
    "    colorbar()"
   ]
  },
  {
   "cell_type": "code",
   "execution_count": null,
   "metadata": {},
   "outputs": [],
   "source": [
    "idx = 8 # any \n",
    "plot_parallel(X[idx],Y[idx])"
   ]
  },
  {
   "cell_type": "code",
   "execution_count": null,
   "metadata": {},
   "outputs": [],
   "source": [
    "# Alignment\n",
    "X_aligned, Y_aligned = DTWAligner(verbose=0, dist=melcd).transform((X, Y))"
   ]
  },
  {
   "cell_type": "code",
   "execution_count": null,
   "metadata": {},
   "outputs": [],
   "source": [
    "plot_parallel(X_aligned[idx],Y_aligned[idx])"
   ]
  },
  {
   "cell_type": "code",
   "execution_count": null,
   "metadata": {},
   "outputs": [],
   "source": [
    "# Drop 1st (power) dimension\n",
    "X_aligned, Y_aligned = X_aligned[:, :, 1:], Y_aligned[:, :, 1:]"
   ]
  },
  {
   "cell_type": "code",
   "execution_count": null,
   "metadata": {},
   "outputs": [],
   "source": [
    "static_dim = X_aligned.shape[-1]\n",
    "if use_delta:\n",
    "    X_aligned = apply_each2d_trim(delta_features, X_aligned, windows)\n",
    "    Y_aligned = apply_each2d_trim(delta_features, Y_aligned, windows)"
   ]
  },
  {
   "cell_type": "code",
   "execution_count": null,
   "metadata": {},
   "outputs": [],
   "source": [
    "plot_parallel(X_aligned[idx],Y_aligned[idx])"
   ]
  },
  {
   "cell_type": "code",
   "execution_count": null,
   "metadata": {},
   "outputs": [],
   "source": [
    "XY = np.concatenate((X_aligned, Y_aligned), axis=-1).reshape(-1, X_aligned.shape[-1]*2)\n",
    "print(XY.shape)"
   ]
  },
  {
   "cell_type": "code",
   "execution_count": null,
   "metadata": {},
   "outputs": [],
   "source": [
    "XY = remove_zeros_frames(XY)\n",
    "print(XY.shape)"
   ]
  },
  {
   "cell_type": "code",
   "execution_count": null,
   "metadata": {},
   "outputs": [],
   "source": [
    "gmm = GaussianMixture(\n",
    "    n_components=64, covariance_type=\"full\", max_iter=100, verbose=1)\n",
    "\n",
    "%time gmm.fit(XY)"
   ]
  },
  {
   "cell_type": "code",
   "execution_count": null,
   "metadata": {},
   "outputs": [],
   "source": [
    "for k in range(3):\n",
    "    plot(gmm.means_[k], linewidth=1.5, label=\"Mean of mixture {}\".format(k+1))\n",
    "legend(prop={\"size\": 16})"
   ]
  },
  {
   "cell_type": "code",
   "execution_count": null,
   "metadata": {},
   "outputs": [],
   "source": [
    "imshow(gmm.covariances_[0], origin=\"bottom left\")\n",
    "colorbar()"
   ]
  },
  {
   "cell_type": "code",
   "execution_count": null,
   "metadata": {},
   "outputs": [],
   "source": [
    "for k in range(3):\n",
    "    plot(np.diag(gmm.covariances_[k]), linewidth=1.5, \n",
    "         label=\"Diagonal part of covariance matrix, mixture {}\".format(k))\n",
    "legend(prop={\"size\": 16})"
   ]
  },
  {
   "cell_type": "code",
   "execution_count": null,
   "metadata": {},
   "outputs": [],
   "source": [
    "def test_one_utt(src_path, tgt_path, disable_mlpg=False, diffvc=True):\n",
    "    # GMM-based parameter generation is provided by the library in `baseline` module\n",
    "    if disable_mlpg:\n",
    "        # Force disable MLPG\n",
    "        paramgen = MLPG(gmm, windows=[(0,0, np.array([1.0]))], diff=diffvc)\n",
    "    else:\n",
    "        paramgen = MLPG(gmm, windows=windows, diff=diffvc)\n",
    "\n",
    "    x, fs = librosa.load(src_path, sr=16000)\n",
    "    x = x.astype(np.float64)\n",
    "    f0, timeaxis = pyworld.dio(x, fs, frame_period=frame_period)\n",
    "    f0 = pyworld.stonemask(x, f0, timeaxis, fs)\n",
    "    spectrogram = pyworld.cheaptrick(x, f0, timeaxis, fs)\n",
    "    aperiodicity = pyworld.d4c(x, f0, timeaxis, fs)\n",
    "\n",
    "    mc = pysptk.sp2mc(spectrogram, order=order, alpha=alpha)\n",
    "    c0, mc = mc[:, 0], mc[:, 1:]\n",
    "    if use_delta:\n",
    "        mc = delta_features(mc, windows)\n",
    "    mc = paramgen.transform(mc)\n",
    "    if disable_mlpg and mc.shape[-1] != static_dim:\n",
    "        mc = mc[:,:static_dim]\n",
    "    assert mc.shape[-1] == static_dim\n",
    "    mc = np.hstack((c0[:, None], mc))\n",
    "    if diffvc:\n",
    "        mc[:, 0] = 0 # remove power coefficients\n",
    "        engine = Synthesizer(MLSADF(order=order, alpha=alpha), hopsize=hop_length)\n",
    "        b = pysptk.mc2b(mc.astype(np.float64), alpha=alpha)\n",
    "        waveform = engine.synthesis(x, b)\n",
    "    else:\n",
    "        spectrogram = pysptk.mc2sp(\n",
    "            mc.astype(np.float64), alpha=alpha, fftlen=fftlen)\n",
    "        waveform = pyworld.synthesize(\n",
    "            f0, spectrogram, aperiodicity, fs, frame_period)\n",
    "        \n",
    "    return waveform"
   ]
  },
  {
   "cell_type": "code",
   "execution_count": null,
   "metadata": {},
   "outputs": [],
   "source": [
    "for i, (src_path, tgt_path) in enumerate(zip(p300_source.test_paths, p276_source.test_paths)):\n",
    "    print(\"{}-th sample\".format(i+1))\n",
    "    wo_MLPG = test_one_utt(src_path, tgt_path, disable_mlpg=True)\n",
    "    w_MLPG = test_one_utt(src_path, tgt_path, disable_mlpg=False)\n",
    "    src, _ = librosa.load(src_path, sr=16000)\n",
    "    tgt, _ = librosa.load(tgt_path, sr=16000) \n",
    "    \n",
    "    print(\"Source:\", basename(src_path))\n",
    "    IPython.display.display(Audio(src, rate=fs))\n",
    "    print(\"Target:\", basename(tgt_path))\n",
    "    IPython.display.display(Audio(tgt, rate=fs))\n",
    "    print(\"w/o MLPG\")\n",
    "    IPython.display.display(Audio(wo_MLPG, rate=fs))\n",
    "    print(\"w/ MLPG\")\n",
    "    IPython.display.display(Audio(w_MLPG, rate=fs))"
   ]
  },
  {
   "cell_type": "code",
   "execution_count": null,
   "metadata": {},
   "outputs": [],
   "source": []
  }
 ],
 "metadata": {
  "kernelspec": {
   "display_name": "Python 3",
   "language": "python",
   "name": "python3"
  },
  "language_info": {
   "codemirror_mode": {
    "name": "ipython",
    "version": 3
   },
   "file_extension": ".py",
   "mimetype": "text/x-python",
   "name": "python",
   "nbconvert_exporter": "python",
   "pygments_lexer": "ipython3",
   "version": "3.6.4"
  }
 },
 "nbformat": 4,
 "nbformat_minor": 2
}
