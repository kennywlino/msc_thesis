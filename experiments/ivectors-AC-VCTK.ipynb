{
 "cells": [
  {
   "cell_type": "markdown",
   "metadata": {},
   "source": [
    "This notebook goes through the voice conversion of speakers from the VCTK corpus using the SIDEKIT toolkit for feature extraction."
   ]
  },
  {
   "cell_type": "markdown",
   "metadata": {},
   "source": [
    "## Extract features"
   ]
  },
  {
   "cell_type": "markdown",
   "metadata": {},
   "source": [
    "http://www-lium.univ-lemans.fr/sidekit/tutorial/hdf5.html"
   ]
  },
  {
   "cell_type": "code",
   "execution_count": 1,
   "metadata": {},
   "outputs": [
    {
     "name": "stdout",
     "output_type": "stream",
     "text": [
      "Import theano\n"
     ]
    },
    {
     "name": "stderr",
     "output_type": "stream",
     "text": [
      "ERROR (theano.gpuarray): pygpu was configured but could not be imported or is too old (version 0.7 or higher required)\n",
      "NoneType: None\n",
      "WARNING:root:WARNNG: libsvm is not installed, please refer to the documentation if you intend to use SVM classifiers\n"
     ]
    }
   ],
   "source": [
    "import sidekit\n",
    "import os\n",
    "from os import listdir"
   ]
  },
  {
   "cell_type": "code",
   "execution_count": 2,
   "metadata": {},
   "outputs": [
    {
     "data": {
      "text/plain": [
       "'/Users/kennylino/Documents/em_lct/UoM/thesis/experiments'"
      ]
     },
     "execution_count": 2,
     "metadata": {},
     "output_type": "execute_result"
    }
   ],
   "source": [
    "os.getcwd()"
   ]
  },
  {
   "cell_type": "code",
   "execution_count": 3,
   "metadata": {},
   "outputs": [],
   "source": [
    "# if cwd not './thesis' (e.g. './thesis/experiments/'), moves one up\n",
    "os.chdir('..')"
   ]
  },
  {
   "cell_type": "code",
   "execution_count": 4,
   "metadata": {},
   "outputs": [],
   "source": [
    "audio_dir = os.path.abspath(\"./data/VCTK-Corpus/\")\n",
    "# this list can be created also by just grabbing all folders in the directory\n",
    "data_dir = ['us-female', 'id-female'] "
   ]
  },
  {
   "cell_type": "code",
   "execution_count": 5,
   "metadata": {},
   "outputs": [],
   "source": [
    "# defines how to extract features (MFCCs, bottleneck, etc.) of audio files in a given path\n",
    "# outputs features with h5 format in a folder named 'feat' in the same subdirectory\n",
    "def extract_features(path):\n",
    "    extractor = sidekit.FeaturesExtractor(audio_filename_structure= os.path.join(path, 'audio/{}.wav'),\n",
    "                                          feature_filename_structure= os.path.join(path, 'feat/{}.h5'),\n",
    "                                          sampling_frequency=48000,\n",
    "                                          lower_frequency=200,\n",
    "                                          higher_frequency=3800,\n",
    "                                          filter_bank=\"log\",\n",
    "                                          filter_bank_size=24,\n",
    "                                          window_size=0.03,\n",
    "                                          shift=0.015,\n",
    "                                          ceps_number=13,\n",
    "                                          vad=\"snr\",\n",
    "                                          snr=40,\n",
    "                                          pre_emphasis=0.97,\n",
    "                                          save_param=[\"vad\", \"energy\", \"cep\", \"fb\"],\n",
    "                                          keep_all_features=True)\n",
    "    \n",
    "    file_list = [os.path.splitext(f)[0] for f in listdir(os.path.join(path, 'audio'))]\n",
    "    channel_list = [0] * len(file_list)\n",
    "    extractor.save_list(show_list=file_list,\n",
    "                        channel_list=channel_list,\n",
    "                        num_thread=10)"
   ]
  },
  {
   "cell_type": "code",
   "execution_count": 6,
   "metadata": {},
   "outputs": [],
   "source": [
    "# extracts the features for each audio file in the data directory\n",
    "for folder in data_dir:\n",
    "    path = os.path.join(audio_dir, folder)\n",
    "    extract_features(path)"
   ]
  },
  {
   "cell_type": "markdown",
   "metadata": {},
   "source": [
    "## UBM-GMM Model"
   ]
  },
  {
   "cell_type": "markdown",
   "metadata": {},
   "source": [
    "http://www-lium.univ-lemans.fr/sidekit/tutorial/ubmTraining.html"
   ]
  },
  {
   "cell_type": "code",
   "execution_count": null,
   "metadata": {},
   "outputs": [],
   "source": [
    "# defines a FeaturesServer that describes *how* to load the data\n",
    "fs = sidekit.FeaturesServer(features_extractor=None,\n",
    "                             feature_filename_structure=\"./features/{}.h5\",\n",
    "                             sources=None,\n",
    "                             dataset_list=[\"energy\", \"cep\", \"vad\"],\n",
    "                             mask=None,\n",
    "                             feat_norm=\"cmvn\",\n",
    "                             global_cmvn=None,\n",
    "                             dct_pca=False,\n",
    "                             dct_pca_config=None,\n",
    "                             sdc=False,\n",
    "                             sdc_config=None,\n",
    "                             delta=True,\n",
    "                             double_delta=True,\n",
    "                             delta_filter=None,\n",
    "                             context=None,\n",
    "                             traps_dct_nb=None,\n",
    "                             rasta=True,\n",
    "                             keep_all_features=False)"
   ]
  },
  {
   "cell_type": "code",
   "execution_count": null,
   "metadata": {},
   "outputs": [],
   "source": [
    "# loads an audio file using the above FeatureServer\n",
    "feat.label = fs.load('file_name')"
   ]
  },
  {
   "cell_type": "code",
   "execution_count": null,
   "metadata": {},
   "outputs": [],
   "source": [
    "ubm = sidekit.Mixture()\n",
    "\n",
    "model = ubm.EM_split(features_server=fs,\n",
    "                     feature_list=ubm_list,\n",
    "                     distrib_nb=1024,\n",
    "                     iterations=(1, 2, 2, 4, 4, 4, 4, 8, 8, 8, 8, 8, 8),\n",
    "                     num_thread=10,\n",
    "                     save_partial=False,\n",
    "                     ceil_cov=10,\n",
    "                     floor_cov=1e-2\n",
    "                     )"
   ]
  }
 ],
 "metadata": {
  "kernelspec": {
   "display_name": "Python 3",
   "language": "python",
   "name": "python3"
  },
  "language_info": {
   "codemirror_mode": {
    "name": "ipython",
    "version": 3
   },
   "file_extension": ".py",
   "mimetype": "text/x-python",
   "name": "python",
   "nbconvert_exporter": "python",
   "pygments_lexer": "ipython3",
   "version": "3.6.5"
  }
 },
 "nbformat": 4,
 "nbformat_minor": 2
}
