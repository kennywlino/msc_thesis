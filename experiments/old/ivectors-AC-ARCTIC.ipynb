{
 "cells": [
  {
   "cell_type": "markdown",
   "metadata": {},
   "source": [
    "This notebook goes through the voice conversion of speakers from the ARCTIC corpus using the SIDEKIT toolkit for feature extraction."
   ]
  },
  {
   "cell_type": "markdown",
   "metadata": {},
   "source": [
    "## Set up"
   ]
  },
  {
   "cell_type": "code",
   "execution_count": 1,
   "metadata": {},
   "outputs": [
    {
     "name": "stdout",
     "output_type": "stream",
     "text": [
      "env: SIDEKIT=theano=false\n"
     ]
    },
    {
     "name": "stderr",
     "output_type": "stream",
     "text": [
      "/Users/kennylino/.local/share/virtualenvs/thesis-W2ZHkp3l/lib/python3.6/importlib/_bootstrap.py:219: RuntimeWarning: numpy.dtype size changed, may indicate binary incompatibility. Expected 96, got 88\n",
      "  return f(*args, **kwds)\n",
      "WARNING:root:WARNNG: libsvm is not installed, please refer to the documentation if you intend to use SVM classifiers\n"
     ]
    }
   ],
   "source": [
    "%set_env SIDEKIT=theano=false\n",
    "import sidekit\n",
    "import os\n",
    "from os import listdir"
   ]
  },
  {
   "cell_type": "code",
   "execution_count": 2,
   "metadata": {},
   "outputs": [
    {
     "name": "stdout",
     "output_type": "stream",
     "text": [
      "/Users/kennylino/Documents/em_lct/UoM/thesis/experiments\n"
     ]
    }
   ],
   "source": [
    "!pwd"
   ]
  },
  {
   "cell_type": "code",
   "execution_count": 3,
   "metadata": {},
   "outputs": [
    {
     "name": "stdout",
     "output_type": "stream",
     "text": [
      "/Users/kennylino/Documents/em_lct/UoM/thesis\n"
     ]
    }
   ],
   "source": [
    "# if cwd not './thesis' (e.g. './thesis/experiments/'), moves one up\n",
    "os.chdir('..')\n",
    "!pwd"
   ]
  },
  {
   "cell_type": "code",
   "execution_count": 4,
   "metadata": {},
   "outputs": [],
   "source": [
    "# takes in a list of speaker directories\n",
    "# returns a single list containing links to each audio file from each speaker\n",
    "def create_ubm_data(corpus_dir, speaker_dir):\n",
    "    ubm_data = []\n",
    "    for speaker in speaker_dir:\n",
    "        file_list = os.listdir(corpus_dir + speaker) # list of file names\n",
    "        speaker_data = [corpus_dir + speaker + os.path.split(f)[0] for f in file_list if f != '.DS_Store']\n",
    "        ubm_data.extend(speaker_data)\n",
    "    return (ubm_data)"
   ]
  },
  {
   "cell_type": "code",
   "execution_count": 5,
   "metadata": {},
   "outputs": [],
   "source": [
    "# ubm file list\n",
    "corpus_dir = \"./data/arctic/\" # corpus directory\n",
    "speaker_dir = ['cmu_us_awb_arctic/wav/', 'cmu_us_clb_arctic/wav/'] # speaker data directories\n",
    "ubm_data = create_ubm_data(corpus_dir, speaker_dir)"
   ]
  },
  {
   "cell_type": "code",
   "execution_count": 6,
   "metadata": {},
   "outputs": [
    {
     "data": {
      "text/plain": [
       "'./data/arctic/cmu_us_awb_arctic/wav/'"
      ]
     },
     "execution_count": 6,
     "metadata": {},
     "output_type": "execute_result"
    }
   ],
   "source": [
    "ubm_data[0]"
   ]
  },
  {
   "cell_type": "markdown",
   "metadata": {},
   "source": [
    "## Extract features"
   ]
  },
  {
   "cell_type": "markdown",
   "metadata": {},
   "source": [
    "http://www-lium.univ-lemans.fr/sidekit/tutorial/hdf5.html"
   ]
  },
  {
   "cell_type": "code",
   "execution_count": 7,
   "metadata": {},
   "outputs": [],
   "source": [
    "# defines how to extract features (MFCCs, bottleneck, etc.) of audio files in a given path\n",
    "extractor = sidekit.FeaturesExtractor(audio_filename_structure='./{}.wav',\n",
    "                                      feature_filename_structure=None,\n",
    "                                      sampling_frequency=16000,\n",
    "                                      lower_frequency=200,\n",
    "                                      higher_frequency=3800,\n",
    "                                      filter_bank=\"log\",\n",
    "                                      filter_bank_size=24,\n",
    "                                      window_size=0.025,\n",
    "                                      shift=0.01,\n",
    "                                      ceps_number=13,\n",
    "                                      vad=\"snr\",\n",
    "                                      snr=40,\n",
    "                                      pre_emphasis=0.97,\n",
    "                                      save_param=[\"vad\", \"energy\", \"cep\"],\n",
    "                                      keep_all_features=True)"
   ]
  },
  {
   "cell_type": "markdown",
   "metadata": {},
   "source": [
    "## UBM-GMM Model"
   ]
  },
  {
   "cell_type": "markdown",
   "metadata": {},
   "source": [
    "http://www-lium.univ-lemans.fr/sidekit/tutorial/ubmTraining.html"
   ]
  },
  {
   "cell_type": "code",
   "execution_count": 8,
   "metadata": {},
   "outputs": [],
   "source": [
    "# defines a FeaturesServer that describes *how* to load the data\n",
    "fs = sidekit.FeaturesServer(features_extractor=extractor,\n",
    "                             feature_filename_structure=None,\n",
    "                             sources=None,\n",
    "                             dataset_list=[\"vad\", \"energy\", \"cep\"],\n",
    "                             mask=None,\n",
    "                             feat_norm=\"cmvn\",\n",
    "                             global_cmvn=None,\n",
    "                             dct_pca=False,\n",
    "                             dct_pca_config=None,\n",
    "                             sdc=False,\n",
    "                             sdc_config=None,\n",
    "                             delta=True,\n",
    "                             double_delta=True,\n",
    "                             delta_filter=None,\n",
    "                             context=None,\n",
    "                             traps_dct_nb=None,\n",
    "                             rasta=False,\n",
    "                             keep_all_features=False)"
   ]
  },
  {
   "cell_type": "code",
   "execution_count": 9,
   "metadata": {},
   "outputs": [
    {
     "name": "stdout",
     "output_type": "stream",
     "text": [
      "/Users/kennylino/Documents/em_lct/UoM/thesis\n"
     ]
    }
   ],
   "source": [
    "!pwd"
   ]
  },
  {
   "cell_type": "code",
   "execution_count": null,
   "metadata": {},
   "outputs": [
    {
     "name": "stderr",
     "output_type": "stream",
     "text": [
      "Process Process-1:\n",
      "Traceback (most recent call last):\n",
      "  File \"/usr/local/Cellar/python/3.6.5/Frameworks/Python.framework/Versions/3.6/lib/python3.6/multiprocessing/process.py\", line 258, in _bootstrap\n",
      "    self.run()\n",
      "  File \"/usr/local/Cellar/python/3.6.5/Frameworks/Python.framework/Versions/3.6/lib/python3.6/multiprocessing/process.py\", line 93, in run\n",
      "    self._target(*self._args, **self._kwargs)\n",
      "  File \"/Users/kennylino/.local/share/virtualenvs/thesis-W2ZHkp3l/lib/python3.6/site-packages/sidekit/features_server.py\", line 635, in _stack_features_worker\n",
      "    output_queue.put(self.load(*next_task)[0])\n",
      "  File \"/Users/kennylino/.local/share/virtualenvs/thesis-W2ZHkp3l/lib/python3.6/site-packages/sidekit/features_server.py\", line 438, in load\n",
      "    start=start, stop=stop)\n",
      "  File \"/Users/kennylino/.local/share/virtualenvs/thesis-W2ZHkp3l/lib/python3.6/site-packages/sidekit/features_server.py\", line 476, in get_features\n",
      "    h5f = self.features_extractor.extract(show, channel, input_audio_filename=input_feature_filename)\n",
      "  File \"/Users/kennylino/.local/share/virtualenvs/thesis-W2ZHkp3l/lib/python3.6/site-packages/sidekit/features_extractor.py\", line 215, in extract\n",
      "    signal, sample_rate = read_audio(audio_filename, self.sampling_frequency)\n",
      "  File \"/Users/kennylino/.local/share/virtualenvs/thesis-W2ZHkp3l/lib/python3.6/site-packages/sidekit/frontend/io.py\", line 427, in read_audio\n",
      "    raise TypeError(\"Unknown extension of audio file\")\n",
      "TypeError: Unknown extension of audio file\n"
     ]
    }
   ],
   "source": [
    "ubm = sidekit.Mixture()\n",
    "model = ubm.EM_split(features_server=fs,\n",
    "                      feature_list=ubm_data[0:1],\n",
    "                      distrib_nb=64,\n",
    "                      iterations=(1, 2, 2, 4, 4, 4, 4),\n",
    "                      save_partial=False,\n",
    "                      ceil_cov=10,\n",
    "                      floor_cov=1e-2\n",
    "                      )\n",
    "ubm.write(corpus_dir + 'ubm.h5')"
   ]
  },
  {
   "cell_type": "code",
   "execution_count": null,
   "metadata": {},
   "outputs": [],
   "source": []
  }
 ],
 "metadata": {
  "kernelspec": {
   "display_name": "Python 3",
   "language": "python",
   "name": "python3"
  },
  "language_info": {
   "codemirror_mode": {
    "name": "ipython",
    "version": 3
   },
   "file_extension": ".py",
   "mimetype": "text/x-python",
   "name": "python",
   "nbconvert_exporter": "python",
   "pygments_lexer": "ipython3",
   "version": "3.6.5"
  }
 },
 "nbformat": 4,
 "nbformat_minor": 2
}
