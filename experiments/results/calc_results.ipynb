{
 "cells": [
  {
   "cell_type": "markdown",
   "metadata": {},
   "source": [
    "# Calculating result stats"
   ]
  },
  {
   "cell_type": "markdown",
   "metadata": {},
   "source": [
    "This notebook goes through various calculations of the results of the survey."
   ]
  },
  {
   "cell_type": "code",
   "execution_count": 48,
   "metadata": {},
   "outputs": [],
   "source": [
    "import re\n",
    "from os import listdir, walk\n",
    "from os.path import join, expanduser, exists, basename, isdir, splitext, abspath, split\n",
    "import pandas as pd\n",
    "import numpy as np"
   ]
  },
  {
   "cell_type": "code",
   "execution_count": 2,
   "metadata": {},
   "outputs": [],
   "source": [
    "# full results for both abi and arctic\n",
    "ac_results = pd.read_csv('results.tsv', sep='\\t')"
   ]
  },
  {
   "cell_type": "markdown",
   "metadata": {},
   "source": [
    "## ABI Stats"
   ]
  },
  {
   "cell_type": "code",
   "execution_count": 3,
   "metadata": {},
   "outputs": [],
   "source": [
    "abi_results = ac_results.iloc[:, :23]"
   ]
  },
  {
   "cell_type": "code",
   "execution_count": 4,
   "metadata": {},
   "outputs": [
    {
     "data": {
      "text/html": [
       "<div>\n",
       "<style scoped>\n",
       "    .dataframe tbody tr th:only-of-type {\n",
       "        vertical-align: middle;\n",
       "    }\n",
       "\n",
       "    .dataframe tbody tr th {\n",
       "        vertical-align: top;\n",
       "    }\n",
       "\n",
       "    .dataframe thead th {\n",
       "        text-align: right;\n",
       "    }\n",
       "</style>\n",
       "<table border=\"1\" class=\"dataframe\">\n",
       "  <thead>\n",
       "    <tr style=\"text-align: right;\">\n",
       "      <th></th>\n",
       "      <th>Timestamp</th>\n",
       "      <th>Do you consider yourself a native speaker of English?</th>\n",
       "      <th>Please select the first option.</th>\n",
       "      <th>Group #1: Is clip X most similar to A or B?</th>\n",
       "      <th>Group #2: Is clip X most similar to A or B?</th>\n",
       "      <th>Group #3: Is clip X most similar to A or B?</th>\n",
       "      <th>Group #4: Is clip X most similar to A or B?</th>\n",
       "      <th>Group #5: Is clip X most similar to A or B?</th>\n",
       "      <th>Group #6: Is clip X most similar to A or B?</th>\n",
       "      <th>Group #7: Is clip X most similar to A or B?</th>\n",
       "      <th>...</th>\n",
       "      <th>Pair #1: Rate the pair of audio clips on a scale of -7 (definitely a different speaker) to 7 (definitely the same speaker). [Similarity]</th>\n",
       "      <th>Pair #2: Rate the pair of audio clips on a scale of -7 (definitely a different speaker) to 7 (definitely the same speaker). [Similarity]</th>\n",
       "      <th>Pair #3: Rate the pair of audio clips on a scale of -7 (definitely a different speaker) to 7 (definitely the same speaker). [Similarity]</th>\n",
       "      <th>Pair #4: Rate the pair of audio clips on a scale of -7 (definitely a different speaker) to 7 (definitely the same speaker). [Similarity]</th>\n",
       "      <th>Pair #5: Rate the pair of audio clips on a scale of -7 (definitely a different speaker) to 7 (definitely the same speaker). [Similarity]</th>\n",
       "      <th>Pair #6: Rate the pair of audio clips on a scale of -7 (definitely a different speaker) to 7 (definitely the same speaker). [Similarity]</th>\n",
       "      <th>Pair #7: Rate the pair of audio clips on a scale of -7 (definitely a different speaker) to 7 (definitely the same speaker). [Similarity]</th>\n",
       "      <th>Pair #8: Rate the pair of audio clips on a scale of -7 (definitely a different speaker) to 7 (definitely the same speaker). [Similarity]</th>\n",
       "      <th>Pair #9: Rate the pair of audio clips on a scale of -7 (definitely a different speaker) to 7 (definitely the same speaker). [Similarity]</th>\n",
       "      <th>Pair #10: Rate the pair of audio clips on a scale of -7 (definitely a different speaker) to 7 (definitely the same speaker). [Similarity]</th>\n",
       "    </tr>\n",
       "  </thead>\n",
       "  <tbody>\n",
       "    <tr>\n",
       "      <th>0</th>\n",
       "      <td>25/12/2018 13:30:17</td>\n",
       "      <td>No</td>\n",
       "      <td>GLA M: https://kennywlino.github.io/msc_thesis...</td>\n",
       "      <td>A</td>\n",
       "      <td>B</td>\n",
       "      <td>A</td>\n",
       "      <td>A</td>\n",
       "      <td>A</td>\n",
       "      <td>B</td>\n",
       "      <td>B</td>\n",
       "      <td>...</td>\n",
       "      <td>Definitely the same speaker 7</td>\n",
       "      <td>4</td>\n",
       "      <td>-4</td>\n",
       "      <td>4</td>\n",
       "      <td>5</td>\n",
       "      <td>5</td>\n",
       "      <td>Definitely a different speaker -7</td>\n",
       "      <td>-1</td>\n",
       "      <td>1</td>\n",
       "      <td>5</td>\n",
       "    </tr>\n",
       "  </tbody>\n",
       "</table>\n",
       "<p>1 rows × 23 columns</p>\n",
       "</div>"
      ],
      "text/plain": [
       "             Timestamp Do you consider yourself a native speaker of English?  \\\n",
       "0  25/12/2018 13:30:17                                                 No      \n",
       "\n",
       "                     Please select the first option.  \\\n",
       "0  GLA M: https://kennywlino.github.io/msc_thesis...   \n",
       "\n",
       "  Group #1: Is clip X most similar to A or B?  \\\n",
       "0                                           A   \n",
       "\n",
       "  Group #2: Is clip X most similar to A or B?  \\\n",
       "0                                           B   \n",
       "\n",
       "  Group #3: Is clip X most similar to A or B?  \\\n",
       "0                                           A   \n",
       "\n",
       "  Group #4: Is clip X most similar to A or B?  \\\n",
       "0                                           A   \n",
       "\n",
       "  Group #5: Is clip X most similar to A or B?  \\\n",
       "0                                           A   \n",
       "\n",
       "  Group #6: Is clip X most similar to A or B?  \\\n",
       "0                                           B   \n",
       "\n",
       "  Group #7: Is clip X most similar to A or B?  \\\n",
       "0                                           B   \n",
       "\n",
       "                                                                     ...                                                                     \\\n",
       "0                                                                    ...                                                                      \n",
       "\n",
       "  Pair #1: Rate the pair of audio clips on a scale of -7 (definitely a different speaker) to 7 (definitely the same speaker). [Similarity]  \\\n",
       "0                      Definitely the same speaker 7                                                                                         \n",
       "\n",
       "  Pair #2: Rate the pair of audio clips on a scale of -7 (definitely a different speaker) to 7 (definitely the same speaker). [Similarity]  \\\n",
       "0                                                  4                                                                                         \n",
       "\n",
       "  Pair #3: Rate the pair of audio clips on a scale of -7 (definitely a different speaker) to 7 (definitely the same speaker). [Similarity]  \\\n",
       "0                                                 -4                                                                                         \n",
       "\n",
       "  Pair #4: Rate the pair of audio clips on a scale of -7 (definitely a different speaker) to 7 (definitely the same speaker). [Similarity]  \\\n",
       "0                                                  4                                                                                         \n",
       "\n",
       "  Pair #5: Rate the pair of audio clips on a scale of -7 (definitely a different speaker) to 7 (definitely the same speaker). [Similarity]  \\\n",
       "0                                                  5                                                                                         \n",
       "\n",
       "  Pair #6: Rate the pair of audio clips on a scale of -7 (definitely a different speaker) to 7 (definitely the same speaker). [Similarity]  \\\n",
       "0                                                  5                                                                                         \n",
       "\n",
       "  Pair #7: Rate the pair of audio clips on a scale of -7 (definitely a different speaker) to 7 (definitely the same speaker). [Similarity]  \\\n",
       "0                  Definitely a different speaker -7                                                                                         \n",
       "\n",
       "  Pair #8: Rate the pair of audio clips on a scale of -7 (definitely a different speaker) to 7 (definitely the same speaker). [Similarity]  \\\n",
       "0                                                 -1                                                                                         \n",
       "\n",
       "  Pair #9: Rate the pair of audio clips on a scale of -7 (definitely a different speaker) to 7 (definitely the same speaker). [Similarity]  \\\n",
       "0                                                  1                                                                                         \n",
       "\n",
       "  Pair #10: Rate the pair of audio clips on a scale of -7 (definitely a different speaker) to 7 (definitely the same speaker). [Similarity]  \n",
       "0                                                  5                                                                                         \n",
       "\n",
       "[1 rows x 23 columns]"
      ]
     },
     "execution_count": 4,
     "metadata": {},
     "output_type": "execute_result"
    }
   ],
   "source": [
    "abi_results.head(1)"
   ]
  },
  {
   "cell_type": "markdown",
   "metadata": {},
   "source": [
    "### Perceived Accent"
   ]
  },
  {
   "cell_type": "code",
   "execution_count": 10,
   "metadata": {},
   "outputs": [
    {
     "name": "stdout",
     "output_type": "stream",
     "text": [
      "/Users/kennylino/Documents/em_lct/UoM/thesis/experiments/results\n"
     ]
    }
   ],
   "source": [
    "!pwd"
   ]
  },
  {
   "cell_type": "code",
   "execution_count": 32,
   "metadata": {},
   "outputs": [
    {
     "name": "stdout",
     "output_type": "stream",
     "text": [
      "\u001b[34mfemale\u001b[m\u001b[m \u001b[34mmale\u001b[m\u001b[m\n"
     ]
    }
   ],
   "source": [
    "ABI_ROOT = join(expanduser(\"~\"), \"Documents/em_lct/UoM/thesis/experiments\", \"abi\")\n",
    "!ls $ABI_ROOT"
   ]
  },
  {
   "cell_type": "code",
   "execution_count": 105,
   "metadata": {},
   "outputs": [],
   "source": [
    "# a dictionary that contains speaker ID : list of correct answers for the PA taslk\n",
    "ABI_PA_ans = {}"
   ]
  },
  {
   "cell_type": "code",
   "execution_count": 97,
   "metadata": {},
   "outputs": [],
   "source": [
    "# creates list of correct answers for PA task\n",
    "# e.g EAN F : ['B', 'A', 'A', ...]\n",
    "\n",
    "def create_ans_list_PA(file):\n",
    "    correct_ans = []\n",
    "    speaker_ID = (basename(file)[:3]).lower()\n",
    "    with open(file, 'r') as f:\n",
    "        for line_num, line in enumerate(f):\n",
    "            if line_num % 4 == 0: # only checks 1st line in each ABX group\n",
    "                regex = re.compile('ABI-1/(\\w+)')\n",
    "                line_ID = regex.search(line).group(1) # ex. sse_001, ean_001\n",
    "                if speaker_ID in line_ID:\n",
    "                    correct_ans.append('A')\n",
    "                else:\n",
    "                    correct_ans.append('B')\n",
    "    return(correct_ans)"
   ]
  },
  {
   "cell_type": "code",
   "execution_count": 106,
   "metadata": {},
   "outputs": [],
   "source": [
    "for root, dirs, files in walk(ABI_ROOT):\n",
    "    if (basename(root)) == 'test_PA' or (basename(root)) == 'test_SI':\n",
    "        for f in files:\n",
    "            if f.endswith('test_PA.txt'):\n",
    "                test_PA_ans_list = create_ans_list_PA(join(root, f))\n",
    "                dict_ID = f[:5].upper() # ex. GLA_M, EAN_F\n",
    "                ABI_PA_ans[dict_ID] = test_PA_ans_list"
   ]
  },
  {
   "cell_type": "code",
   "execution_count": 107,
   "metadata": {},
   "outputs": [
    {
     "name": "stdout",
     "output_type": "stream",
     "text": [
      "{'GLA_M': ['B', 'A', 'B', 'B', 'B', 'A', 'A', 'A', 'A', 'A'], 'LAN_M': ['A', 'B', 'B', 'A', 'B', 'B', 'B', 'B', 'A', 'A'], 'GLA_F': ['B', 'B', 'B', 'A', 'B', 'B', 'A', 'A', 'B', 'B'], 'EAN_F': ['B', 'A', 'A', 'A', 'A', 'A', 'B', 'A', 'A', 'A'], 'LAN_F': ['B', 'B', 'A', 'B', 'B', 'A', 'B', 'B', 'B', 'B']}\n"
     ]
    }
   ],
   "source": [
    "print(ABI_PA_ans)"
   ]
  },
  {
   "cell_type": "code",
   "execution_count": null,
   "metadata": {},
   "outputs": [],
   "source": [
    "# creates list of correct answers for SI task\n",
    "# e.g EAN F : ['B', 'A', 'A', ...]\n",
    "\n",
    "def create_ans_list_SI(file):\n",
    "with open(file, 'r') as f:\n",
    "    for line_num, line in enumerate(f):\n",
    "        correct_ans = []\n",
    "        if line_num % 3 == 0: # only checks 1st line in each ABX group\n",
    "            regex = re.compile('ABI-1/(\\w+)')\n",
    "            line_ID = regex.search(line).group(1)) # ex. sse_001, ean_001\n",
    "            if line_ID contains speaker_ID:\n",
    "                correct_ans.append('-7')\n",
    "            else:\n",
    "                correct_ans.append('7')"
   ]
  },
  {
   "cell_type": "markdown",
   "metadata": {},
   "source": [
    "## ARCTIC Stats"
   ]
  },
  {
   "cell_type": "code",
   "execution_count": 7,
   "metadata": {},
   "outputs": [],
   "source": [
    "arc_results = ac_results.drop(ac_results.columns[2:23], axis=1)"
   ]
  },
  {
   "cell_type": "code",
   "execution_count": 8,
   "metadata": {},
   "outputs": [
    {
     "data": {
      "text/html": [
       "<div>\n",
       "<style scoped>\n",
       "    .dataframe tbody tr th:only-of-type {\n",
       "        vertical-align: middle;\n",
       "    }\n",
       "\n",
       "    .dataframe tbody tr th {\n",
       "        vertical-align: top;\n",
       "    }\n",
       "\n",
       "    .dataframe thead th {\n",
       "        text-align: right;\n",
       "    }\n",
       "</style>\n",
       "<table border=\"1\" class=\"dataframe\">\n",
       "  <thead>\n",
       "    <tr style=\"text-align: right;\">\n",
       "      <th></th>\n",
       "      <th>Timestamp</th>\n",
       "      <th>Do you consider yourself a native speaker of English?</th>\n",
       "      <th>Please select the first option..1</th>\n",
       "      <th>Group #1: Is clip X most similar to A or B?.1</th>\n",
       "      <th>Group #2: Is clip X most similar to A or B?.1</th>\n",
       "      <th>Group #3: Is clip X most similar to A or B?.1</th>\n",
       "      <th>Group #4: Is clip X most similar to A or B?.1</th>\n",
       "      <th>Group #5: Is clip X most similar to A or B?.1</th>\n",
       "      <th>Group #6: Is clip X most similar to A or B?.1</th>\n",
       "      <th>Group #7: Is clip X most similar to A or B?.1</th>\n",
       "      <th>...</th>\n",
       "      <th>Pair #1: Rate the pair of audio clips on a scale of -7 (definitely a different speaker) to 7 (definitely the same speaker). [Similarity].1</th>\n",
       "      <th>Pair #2: Rate the pair of audio clips on a scale of -7 (definitely a different speaker) to 7 (definitely the same speaker). [Similarity].1</th>\n",
       "      <th>Pair #3: Rate the pair of audio clips on a scale of -7 (definitely a different speaker) to 7 (definitely the same speaker). [Similarity].1</th>\n",
       "      <th>Pair #4: Rate the pair of audio clips on a scale of -7 (definitely a different speaker) to 7 (definitely the same speaker). [Similarity].1</th>\n",
       "      <th>Pair #5: Rate the pair of audio clips on a scale of -7 (definitely a different speaker) to 7 (definitely the same speaker). [Similarity].1</th>\n",
       "      <th>Pair #6: Rate the pair of audio clips on a scale of -7 (definitely a different speaker) to 7 (definitely the same speaker). [Similarity].1</th>\n",
       "      <th>Pair #7: Rate the pair of audio clips on a scale of -7 (definitely a different speaker) to 7 (definitely the same speaker). [Similarity].1</th>\n",
       "      <th>Pair #8: Rate the pair of audio clips on a scale of -7 (definitely a different speaker) to 7 (definitely the same speaker). [Similarity].1</th>\n",
       "      <th>Pair #9: Rate the pair of audio clips on a scale of -7 (definitely a different speaker) to 7 (definitely the same speaker). [Similarity].1</th>\n",
       "      <th>Pair #10: Rate the pair of audio clips on a scale of -7 (definitely a different speaker) to 7 (definitely the same speaker). [Similarity].1</th>\n",
       "    </tr>\n",
       "  </thead>\n",
       "  <tbody>\n",
       "    <tr>\n",
       "      <th>0</th>\n",
       "      <td>25/12/2018 13:30:17</td>\n",
       "      <td>No</td>\n",
       "      <td>SPANISH F: https://kennywlino.github.io/msc_th...</td>\n",
       "      <td>B</td>\n",
       "      <td>A</td>\n",
       "      <td>B</td>\n",
       "      <td>B</td>\n",
       "      <td>B</td>\n",
       "      <td>B</td>\n",
       "      <td>A</td>\n",
       "      <td>...</td>\n",
       "      <td>Definitely the same speaker 7</td>\n",
       "      <td>-4</td>\n",
       "      <td>6</td>\n",
       "      <td>-1</td>\n",
       "      <td>6</td>\n",
       "      <td>5</td>\n",
       "      <td>6</td>\n",
       "      <td>Definitely a different speaker -7</td>\n",
       "      <td>4</td>\n",
       "      <td>-3</td>\n",
       "    </tr>\n",
       "  </tbody>\n",
       "</table>\n",
       "<p>1 rows × 23 columns</p>\n",
       "</div>"
      ],
      "text/plain": [
       "             Timestamp Do you consider yourself a native speaker of English?  \\\n",
       "0  25/12/2018 13:30:17                                                 No      \n",
       "\n",
       "                   Please select the first option..1  \\\n",
       "0  SPANISH F: https://kennywlino.github.io/msc_th...   \n",
       "\n",
       "  Group #1: Is clip X most similar to A or B?.1  \\\n",
       "0                                             B   \n",
       "\n",
       "  Group #2: Is clip X most similar to A or B?.1  \\\n",
       "0                                             A   \n",
       "\n",
       "  Group #3: Is clip X most similar to A or B?.1  \\\n",
       "0                                             B   \n",
       "\n",
       "  Group #4: Is clip X most similar to A or B?.1  \\\n",
       "0                                             B   \n",
       "\n",
       "  Group #5: Is clip X most similar to A or B?.1  \\\n",
       "0                                             B   \n",
       "\n",
       "  Group #6: Is clip X most similar to A or B?.1  \\\n",
       "0                                             B   \n",
       "\n",
       "  Group #7: Is clip X most similar to A or B?.1  \\\n",
       "0                                             A   \n",
       "\n",
       "                                                                      ...                                                                      \\\n",
       "0                                                                     ...                                                                       \n",
       "\n",
       "  Pair #1: Rate the pair of audio clips on a scale of -7 (definitely a different speaker) to 7 (definitely the same speaker). [Similarity].1  \\\n",
       "0                      Definitely the same speaker 7                                                                                           \n",
       "\n",
       "  Pair #2: Rate the pair of audio clips on a scale of -7 (definitely a different speaker) to 7 (definitely the same speaker). [Similarity].1  \\\n",
       "0                                                 -4                                                                                           \n",
       "\n",
       "  Pair #3: Rate the pair of audio clips on a scale of -7 (definitely a different speaker) to 7 (definitely the same speaker). [Similarity].1  \\\n",
       "0                                                  6                                                                                           \n",
       "\n",
       "  Pair #4: Rate the pair of audio clips on a scale of -7 (definitely a different speaker) to 7 (definitely the same speaker). [Similarity].1  \\\n",
       "0                                                 -1                                                                                           \n",
       "\n",
       "  Pair #5: Rate the pair of audio clips on a scale of -7 (definitely a different speaker) to 7 (definitely the same speaker). [Similarity].1  \\\n",
       "0                                                  6                                                                                           \n",
       "\n",
       "  Pair #6: Rate the pair of audio clips on a scale of -7 (definitely a different speaker) to 7 (definitely the same speaker). [Similarity].1  \\\n",
       "0                                                  5                                                                                           \n",
       "\n",
       "  Pair #7: Rate the pair of audio clips on a scale of -7 (definitely a different speaker) to 7 (definitely the same speaker). [Similarity].1  \\\n",
       "0                                                  6                                                                                           \n",
       "\n",
       "  Pair #8: Rate the pair of audio clips on a scale of -7 (definitely a different speaker) to 7 (definitely the same speaker). [Similarity].1  \\\n",
       "0                  Definitely a different speaker -7                                                                                           \n",
       "\n",
       "  Pair #9: Rate the pair of audio clips on a scale of -7 (definitely a different speaker) to 7 (definitely the same speaker). [Similarity].1  \\\n",
       "0                                                  4                                                                                           \n",
       "\n",
       "  Pair #10: Rate the pair of audio clips on a scale of -7 (definitely a different speaker) to 7 (definitely the same speaker). [Similarity].1  \n",
       "0                                                 -3                                                                                           \n",
       "\n",
       "[1 rows x 23 columns]"
      ]
     },
     "execution_count": 8,
     "metadata": {},
     "output_type": "execute_result"
    }
   ],
   "source": [
    "arc_results.head(1)"
   ]
  },
  {
   "cell_type": "code",
   "execution_count": null,
   "metadata": {},
   "outputs": [],
   "source": []
  }
 ],
 "metadata": {
  "kernelspec": {
   "display_name": "Python 3",
   "language": "python",
   "name": "python3"
  },
  "language_info": {
   "codemirror_mode": {
    "name": "ipython",
    "version": 3
   },
   "file_extension": ".py",
   "mimetype": "text/x-python",
   "name": "python",
   "nbconvert_exporter": "python",
   "pygments_lexer": "ipython3",
   "version": "3.6.5"
  }
 },
 "nbformat": 4,
 "nbformat_minor": 2
}
